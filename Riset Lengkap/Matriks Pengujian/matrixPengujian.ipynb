{
 "cells": [
  {
   "cell_type": "markdown",
   "metadata": {},
   "source": [
    "Pengujian Model"
   ]
  },
  {
   "cell_type": "code",
   "execution_count": 1,
   "metadata": {},
   "outputs": [],
   "source": [
    "#import libraries and packages\n",
    "\n",
    "from numpy.random import seed\n",
    "seed(8) #1\n",
    "\n",
    "import tensorflow\n",
    "tensorflow.random.set_seed(7)\n",
    "\n",
    "import numpy as np # linear algebra\n",
    "import pandas as pd # data processing, CSV file I/O (e.g. pd.read_csv)\n",
    "\n",
    "import os\n",
    "\n",
    "from tensorflow.keras import backend as K\n",
    "from tensorflow.keras.models import Model ,load_model\n",
    "from tensorflow.keras.layers import Flatten, Dense, Dropout\n",
    "from tensorflow.keras.applications.inception_resnet_v2 import InceptionResNetV2, preprocess_input\n",
    "from keras.applications.vgg16 import preprocess_input\n",
    "from keras.applications.vgg16 import decode_predictions\n",
    "from keras.applications.vgg16 import VGG16\n",
    "from tensorflow.keras.optimizers import Adam, RMSprop\n",
    "from tensorflow.keras.preprocessing.image import ImageDataGenerator\n",
    "from tensorflow.keras.callbacks import ModelCheckpoint\n",
    "import numpy as np\n",
    "import tensorflow as tf\n",
    "\n",
    "from tensorflow.python.keras import models\n",
    "from tensorflow.python.keras import layers\n",
    "\n",
    "from tensorflow.keras import optimizers"
   ]
  },
  {
   "cell_type": "code",
   "execution_count": 2,
   "metadata": {},
   "outputs": [
    {
     "name": "stdout",
     "output_type": "stream",
     "text": [
      "Model: \"sequential\"\n",
      "_________________________________________________________________\n",
      " Layer (type)                Output Shape              Param #   \n",
      "=================================================================\n",
      " xception (Functional)       (None, 5, 5, 2048)        20861480  \n",
      "                                                                 \n",
      " flatten (Flatten)           (None, 51200)             0         \n",
      "                                                                 \n",
      " dropout (Dropout)           (None, 51200)             0         \n",
      "                                                                 \n",
      " dense (Dense)               (None, 256)               13107456  \n",
      "                                                                 \n",
      " dense_1 (Dense)             (None, 4)                 1028      \n",
      "                                                                 \n",
      "=================================================================\n",
      "Total params: 33969964 (129.59 MB)\n",
      "Trainable params: 33915436 (129.38 MB)\n",
      "Non-trainable params: 54528 (213.00 KB)\n",
      "_________________________________________________________________\n"
     ]
    }
   ],
   "source": [
    "# model summary\n",
    "model = load_model('../Coding/4-class-DumpTruck.h5')\n",
    "model.summary()"
   ]
  },
  {
   "cell_type": "code",
   "execution_count": 3,
   "metadata": {},
   "outputs": [
    {
     "name": "stdout",
     "output_type": "stream",
     "text": [
      "Found 8 images belonging to 4 classes.\n"
     ]
    }
   ],
   "source": [
    "# model evaluation menggunakan dataset test\n",
    "\n",
    "import cv2\n",
    "\n",
    "def convert_and_light_normalization(input_folder_path, output_folder_path):\n",
    "    for label_folder in os.listdir(input_folder_path):\n",
    "        label_folder_path = os.path.join(input_folder_path, label_folder)\n",
    "        output_label_folder_path = os.path.join(output_folder_path, label_folder)\n",
    "        \n",
    "        if os.path.isdir(label_folder_path):\n",
    "            os.makedirs(output_label_folder_path, exist_ok=True)  # Membuat folder output jika belum ada\n",
    "            \n",
    "            for image_file in os.listdir(label_folder_path):\n",
    "                image_path = os.path.join(label_folder_path, image_file)\n",
    "                \n",
    "                if image_file.endswith('.jpg') or image_file.endswith('.png') or image_file.endswith('.jpeg'):  # Pastikan hanya membaca file gambar\n",
    "                    img = cv2.imread(image_path)\n",
    "                    gray_img = cv2.cvtColor(img, cv2.COLOR_BGR2GRAY)\n",
    "                    \n",
    "                    # Normalisasi pencahayaan menggunakan CLAHE (Contrast Limited Adaptive Histogram Equalization)\n",
    "                    clahe = cv2.createCLAHE(clipLimit=2.0, tileGridSize=(8, 8))\n",
    "                    normalized_img = clahe.apply(gray_img)\n",
    "                    \n",
    "                    output_image_path = os.path.join(output_label_folder_path, image_file)\n",
    "                    cv2.imwrite(output_image_path, normalized_img)\n",
    "\n",
    "IMAGE_SIZE    = (150, 150)\n",
    "test_datagen = ImageDataGenerator(rescale=1. / 255)\n",
    "test_dir =  '../Dataset/Test'\n",
    "output_test_dir = '../DatasetOut/Test'\n",
    "\n",
    "convert_and_light_normalization(test_dir, output_test_dir)\n",
    "\n",
    "eval_generator = test_datagen.flow_from_directory(output_test_dir,target_size=IMAGE_SIZE,batch_size=1, \n",
    "                                                  shuffle=False, seed=42, class_mode=\"categorical\")\n",
    "eval_generator.reset()  "
   ]
  },
  {
   "cell_type": "code",
   "execution_count": 4,
   "metadata": {},
   "outputs": [
    {
     "name": "stdout",
     "output_type": "stream",
     "text": [
      "Found 8 images belonging to 4 classes.\n"
     ]
    },
    {
     "name": "stdout",
     "output_type": "stream",
     "text": [
      "1/1 [==============================] - 2s 2s/step\n",
      "0 Kusam\\7.jpg\n",
      "1/1 [==============================] - 0s 94ms/step\n",
      "0 Kusam\\8.jpg\n",
      "1/1 [==============================] - 0s 94ms/step\n",
      "1 Normal\\8.jpg\n",
      "1/1 [==============================] - 0s 100ms/step\n",
      "1 Normal\\9.jpeg\n",
      "1/1 [==============================] - 0s 94ms/step\n",
      "2 Retak\\7.jpg\n",
      "1/1 [==============================] - 0s 94ms/step\n",
      "2 Retak\\8.jpg\n",
      "1/1 [==============================] - 0s 102ms/step\n",
      "2 Tergores\\7.jpg\n",
      "1/1 [==============================] - 0s 109ms/step\n",
      "2 Tergores\\8.jpg\n",
      "[2, 2, 4, 0]\n"
     ]
    }
   ],
   "source": [
    "# Prediksi menggunakan model pada dataset test\n",
    "\n",
    "IMAGE_SIZE    = (150, 150)\n",
    "test_datagen = ImageDataGenerator(rescale=1. / 255)\n",
    "test_dir =  '../DatasetOut/Test'\n",
    "\n",
    "pred_generator = test_datagen.flow_from_directory(\n",
    "        test_dir,target_size=IMAGE_SIZE,\n",
    "        batch_size=1,\n",
    "        shuffle=False,\n",
    "        \n",
    "        seed=42,\n",
    "        \n",
    "        class_mode=\"categorical\")\n",
    "pred_generator.reset()   \n",
    "\n",
    "count=[0,0,0,0]\n",
    "\n",
    "files=pred_generator.filenames\n",
    "\n",
    "for i in range(len(files)):\n",
    "  x,y = pred_generator.next()\n",
    "  img = x\n",
    "  predict=model.predict(img)\n",
    "  \n",
    "  p=np.argmax(predict, axis=-1)\n",
    "  print(str(p[0])+\" \"+files[pred_generator.batch_index-1])\n",
    "  #print(predict)\n",
    "  #p=model.predict_classes(img)\n",
    "  count[p[0]]+=1\n",
    "  \n",
    "#print(str(p[0])+\" \"+files[i]) \n",
    "print(count)"
   ]
  },
  {
   "cell_type": "code",
   "execution_count": 5,
   "metadata": {},
   "outputs": [
    {
     "name": "stderr",
     "output_type": "stream",
     "text": [
      "C:\\Users\\Imam Maskuri\\AppData\\Local\\Temp\\ipykernel_20948\\384991685.py:10: UserWarning: `Model.predict_generator` is deprecated and will be removed in a future version. Please use `Model.predict`, which supports generators.\n",
      "  predict = model.predict_generator(eval_generator, steps=np.ceil(len(eval_generator)))\n"
     ]
    },
    {
     "data": {
      "image/png": "[encoded data removed]",
      "text/plain": [
       "<Figure size 800x800 with 2 Axes>"
      ]
     },
     "metadata": {},
     "output_type": "display_data"
    }
   ],
   "source": [
    "from sklearn.metrics import confusion_matrix, classification_report\n",
    "import matplotlib.pyplot as plt\n",
    "import numpy as np\n",
    "\n",
    "\n",
    "# Menghitung prediksi menggunakan model\n",
    "filenames = eval_generator.filenames\n",
    "nb_samples = len(filenames)\n",
    "eval_generator.reset()  \n",
    "predict = model.predict_generator(eval_generator, steps=np.ceil(len(eval_generator)))\n",
    "pp = predict\n",
    "\n",
    "# Mendapatkan label sebenarnya dan prediksi kelas\n",
    "true_labels = eval_generator.classes\n",
    "predicted_labels = np.argmax(pp, axis=1)\n",
    "\n",
    "# Menghitung matriks konfusi\n",
    "cm = confusion_matrix(true_labels, predicted_labels)\n",
    "\n",
    "# Menampilkan laporan klasifikasi\n",
    "class_names = [\"Normal\", \"Tergores\", \"Retak\", \"Kusam\"]\n",
    "\n",
    "# Menampilkan matriks konfusi secara manual\n",
    "plt.figure(figsize=(8, 8))\n",
    "plt.imshow(cm, interpolation='nearest', cmap=plt.cm.Blues)\n",
    "plt.title('Confusion Matrix')\n",
    "plt.colorbar()\n",
    "\n",
    "tick_marks = np.arange(len(class_names))\n",
    "plt.xticks(tick_marks, class_names, rotation=45)\n",
    "plt.yticks(tick_marks, class_names)\n",
    "\n",
    "for i in range(len(class_names)):\n",
    "    for j in range(len(class_names)):\n",
    "        plt.text(j, i, str(cm[i, j]), horizontalalignment='center', verticalalignment='center')\n",
    "\n",
    "plt.xlabel('Predicted Label')\n",
    "plt.ylabel('True Label')\n",
    "plt.show()\n",
    "\n"
   ]
  },
  {
   "cell_type": "code",
   "execution_count": 6,
   "metadata": {},
   "outputs": [
    {
     "name": "stdout",
     "output_type": "stream",
     "text": [
      "MSE  :  0.25\n",
      "RMSE :  0.5\n",
      "MAE  :  0.25\n"
     ]
    }
   ],
   "source": [
    "# hitung MSE, RMSE, dan MAE\n",
    "\n",
    "from sklearn.metrics import mean_squared_error, mean_absolute_error\n",
    "from math import sqrt\n",
    "\n",
    "print(\"MSE  : \", mean_squared_error(true_labels, predicted_labels))\n",
    "print(\"RMSE : \", sqrt(mean_squared_error(true_labels, predicted_labels)))\n",
    "print(\"MAE  : \", mean_absolute_error(true_labels, predicted_labels))"
   ]
  }
 ],
 "metadata": {
  "kernelspec": {
   "display_name": "Python 3 (ipykernel)",
   "language": "python",
   "name": "python3"
  },
  "language_info": {
   "codemirror_mode": {
    "name": "ipython",
    "version": 3
   },
   "file_extension": ".py",
   "mimetype": "text/x-python",
   "name": "python",
   "nbconvert_exporter": "python",
   "pygments_lexer": "ipython3",
   "version": "3.10.8"
  }
 },
 "nbformat": 4,
 "nbformat_minor": 4
}
